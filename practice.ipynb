{
 "cells": [
  {
   "cell_type": "code",
   "execution_count": 1,
   "id": "15b5d779",
   "metadata": {},
   "outputs": [
    {
     "name": "stdout",
     "output_type": "stream",
     "text": [
      "00000101\n"
     ]
    }
   ],
   "source": [
    "def decimal_to_binary(n):\n",
    "    x = \"\"\n",
    "    while n >= 1:\n",
    "        x = str(n%2) + x\n",
    "        n = int((n-n%2)/2)\n",
    "    while len(x) < 8:\n",
    "        x = str(0) + x\n",
    "    return x\n",
    "\n",
    "n = 5\n",
    "print(decimal_to_binary(n))"
   ]
  },
  {
   "cell_type": "code",
   "execution_count": 2,
   "id": "6d6d16de",
   "metadata": {},
   "outputs": [
    {
     "name": "stdout",
     "output_type": "stream",
     "text": [
      "99\n",
      "9999\n"
     ]
    }
   ],
   "source": [
    "a = input()\n",
    "b = \"\"\n",
    "for i in a:\n",
    "    b = b + i*2\n",
    "print(b)"
   ]
  },
  {
   "cell_type": "code",
   "execution_count": 3,
   "id": "3db7f598",
   "metadata": {},
   "outputs": [
    {
     "name": "stdout",
     "output_type": "stream",
     "text": [
      "Hello World\n"
     ]
    }
   ],
   "source": [
    "print(\"Hello World\")"
   ]
  },
  {
   "cell_type": "code",
   "execution_count": 4,
   "id": "4d5250b6",
   "metadata": {},
   "outputs": [
    {
     "name": "stdout",
     "output_type": "stream",
     "text": [
      "15\n",
      "-5\n",
      "50\n",
      "0.5\n",
      "5\n"
     ]
    }
   ],
   "source": [
    "a = 5\n",
    "b = 10\n",
    "print(a+b)\n",
    "print(a-b)\n",
    "print(a*b)\n",
    "print(a/b)\n",
    "print(a%b)"
   ]
  },
  {
   "cell_type": "code",
   "execution_count": 5,
   "id": "cc22ba2e",
   "metadata": {},
   "outputs": [
    {
     "name": "stdout",
     "output_type": "stream",
     "text": [
      "5\n",
      "6\n",
      "11\n",
      "-1\n",
      "30\n",
      "0.8333333333333334\n",
      "5\n"
     ]
    }
   ],
   "source": [
    "a = int(input())\n",
    "b = int(input())\n",
    "print(a+b)\n",
    "print(a-b)\n",
    "print(a*b)\n",
    "print(a/b)\n",
    "print(a%b)"
   ]
  },
  {
   "cell_type": "code",
   "execution_count": 6,
   "id": "5c8c05dd",
   "metadata": {},
   "outputs": [
    {
     "name": "stdout",
     "output_type": "stream",
     "text": [
      "5.0\n",
      "8.1\n",
      "13.1\n",
      "-3.0999999999999996\n",
      "40.5\n",
      "0.617283950617284\n",
      "5.0\n"
     ]
    }
   ],
   "source": [
    "a = float(input())\n",
    "b = float(input())\n",
    "print(a+b)\n",
    "print(a-b)\n",
    "print(a*b)\n",
    "print(a/b)\n",
    "print(a%b)"
   ]
  },
  {
   "cell_type": "code",
   "execution_count": 7,
   "id": "9f125812",
   "metadata": {},
   "outputs": [
    {
     "name": "stdout",
     "output_type": "stream",
     "text": [
      "1\n",
      "2\n",
      "3\n",
      "6\n"
     ]
    }
   ],
   "source": [
    "a = int(input())\n",
    "b = int(input())\n",
    "c = int(input())\n",
    "print(a+b+c)"
   ]
  },
  {
   "cell_type": "code",
   "execution_count": null,
   "id": "8297ae37",
   "metadata": {},
   "outputs": [],
   "source": [
    "if a>b:\n",
    "    print(\"a > b\")"
   ]
  },
  {
   "cell_type": "code",
   "execution_count": 16,
   "id": "8e90f200",
   "metadata": {},
   "outputs": [
    {
     "name": "stdout",
     "output_type": "stream",
     "text": [
      "58765943296\n",
      "18859965\n"
     ]
    }
   ],
   "source": [
    "list1 = input()\n",
    "a = [int(x) for x in list1.split()]\n",
    "a.sort()\n",
    "print(a[-1])\n",
    "print(a[-2])"
   ]
  },
  {
   "cell_type": "code",
   "execution_count": 14,
   "id": "ce976844",
   "metadata": {},
   "outputs": [
    {
     "name": "stdout",
     "output_type": "stream",
     "text": [
      "5 4\n"
     ]
    }
   ],
   "source": [
    "a = 5\n",
    "b = 4\n",
    "if a + b > 5 and a - b == 1:\n",
    "    print(a,b)"
   ]
  }
 ],
 "metadata": {
  "kernelspec": {
   "display_name": "Python 3 (ipykernel)",
   "language": "python",
   "name": "python3"
  },
  "language_info": {
   "codemirror_mode": {
    "name": "ipython",
    "version": 3
   },
   "file_extension": ".py",
   "mimetype": "text/x-python",
   "name": "python",
   "nbconvert_exporter": "python",
   "pygments_lexer": "ipython3",
   "version": "3.11.4"
  }
 },
 "nbformat": 4,
 "nbformat_minor": 5
}
