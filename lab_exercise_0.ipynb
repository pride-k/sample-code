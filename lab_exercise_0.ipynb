{
 "cells": [
  {
   "cell_type": "code",
   "execution_count": 39,
   "metadata": {},
   "outputs": [
    {
     "name": "stdout",
     "output_type": "stream",
     "text": [
      "False\n"
     ]
    }
   ],
   "source": [
    "def is_prime(n):\n",
    "    if n == 1:\n",
    "        return False\n",
    "    if n == 2 or n == 3:\n",
    "        return True\n",
    "    elif n%2 == 0 or n%3 == 0:\n",
    "        return False\n",
    "    i = 5\n",
    "    while i * i <= n:\n",
    "        if n%i == 0 or n%(i+2) == 0:\n",
    "            return False\n",
    "        i += 6\n",
    "    return True\n",
    "print(is_prime(121))"
   ]
  },
  {
   "cell_type": "code",
   "execution_count": 26,
   "metadata": {},
   "outputs": [
    {
     "name": "stdout",
     "output_type": "stream",
     "text": [
      "0\n",
      "1\n",
      "1\n",
      "2\n",
      "3\n",
      "5\n",
      "8\n",
      "True\n"
     ]
    }
   ],
   "source": [
    "a,b = 0,1\n",
    "while a < 10:\n",
    "    print(a)\n",
    "    a,b=b,b+a"
   ]
  },
  {
   "cell_type": "code",
   "execution_count": 48,
   "metadata": {},
   "outputs": [
    {
     "name": "stdout",
     "output_type": "stream",
     "text": [
      "[97, 97]\n",
      "[2]\n"
     ]
    }
   ],
   "source": [
    "def prime_factorisation(n):\n",
    "    ans = []\n",
    "    while n%2 == 0:\n",
    "        ans.append(2)\n",
    "        n //= 2\n",
    "    while n%3 == 0:\n",
    "        ans.append(3)\n",
    "        n //= 3\n",
    "    i = 5\n",
    "    while n != 1:\n",
    "        while n%i == 0:\n",
    "            ans.append(i)\n",
    "            n //= i\n",
    "        i += 2\n",
    "        while n%i == 0:\n",
    "            ans.append(i)\n",
    "            n //= i\n",
    "        i += 4\n",
    "        \n",
    "    return(ans)\n",
    "print(prime_factorisation(97*97))\n",
    "print(prime_factorisation(2))"
   ]
  },
  {
   "cell_type": "code",
   "execution_count": 31,
   "metadata": {},
   "outputs": [
    {
     "name": "stdout",
     "output_type": "stream",
     "text": [
      "A\n",
      "3\n"
     ]
    }
   ],
   "source": [
    "print(\"{:c}\".format(65))\n",
    "list1 = [1,2,3,4,5]\n",
    "n = len(list1)\n",
    "if n%2 !=0:\n",
    "    print(list1[int((n-1)/2)])\n",
    "else:\n",
    "    print(list1)"
   ]
  }
 ],
 "metadata": {
  "kernelspec": {
   "display_name": "Python 3",
   "language": "python",
   "name": "python3"
  },
  "language_info": {
   "codemirror_mode": {
    "name": "ipython",
    "version": 3
   },
   "file_extension": ".py",
   "mimetype": "text/x-python",
   "name": "python",
   "nbconvert_exporter": "python",
   "pygments_lexer": "ipython3",
   "version": "3.11.4"
  },
  "orig_nbformat": 4
 },
 "nbformat": 4,
 "nbformat_minor": 2
}
